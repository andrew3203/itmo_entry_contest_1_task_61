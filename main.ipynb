{
 "cells": [
  {
   "cell_type": "code",
   "execution_count": 1,
   "id": "895d59da",
   "metadata": {},
   "outputs": [],
   "source": [
    "import pandas as pd\n",
    "\n"
   ]
  },
  {
   "cell_type": "code",
   "execution_count": 2,
   "id": "2e62624e",
   "metadata": {},
   "outputs": [
    {
     "data": {
      "text/html": [
       "<div>\n",
       "<style scoped>\n",
       "    .dataframe tbody tr th:only-of-type {\n",
       "        vertical-align: middle;\n",
       "    }\n",
       "\n",
       "    .dataframe tbody tr th {\n",
       "        vertical-align: top;\n",
       "    }\n",
       "\n",
       "    .dataframe thead th {\n",
       "        text-align: right;\n",
       "    }\n",
       "</style>\n",
       "<table border=\"1\" class=\"dataframe\">\n",
       "  <thead>\n",
       "    <tr style=\"text-align: right;\">\n",
       "      <th></th>\n",
       "      <th>transaction_id</th>\n",
       "      <th>customer_id</th>\n",
       "      <th>card_number</th>\n",
       "      <th>timestamp</th>\n",
       "      <th>vendor_category</th>\n",
       "      <th>vendor_type</th>\n",
       "      <th>vendor</th>\n",
       "      <th>amount</th>\n",
       "      <th>currency</th>\n",
       "      <th>country</th>\n",
       "      <th>...</th>\n",
       "      <th>ip_address</th>\n",
       "      <th>is_outside_home_country</th>\n",
       "      <th>is_high_risk_vendor</th>\n",
       "      <th>is_weekend</th>\n",
       "      <th>is_fraud</th>\n",
       "      <th>last_hour_activity.num_transactions</th>\n",
       "      <th>last_hour_activity.total_amount</th>\n",
       "      <th>last_hour_activity.unique_merchants</th>\n",
       "      <th>last_hour_activity.unique_countries</th>\n",
       "      <th>last_hour_activity.max_single_amount</th>\n",
       "    </tr>\n",
       "  </thead>\n",
       "  <tbody>\n",
       "    <tr>\n",
       "      <th>0</th>\n",
       "      <td>TX_a0ad2a2a</td>\n",
       "      <td>CUST_72886</td>\n",
       "      <td>6646734767813109</td>\n",
       "      <td>2024-09-30 00:00:01.034820</td>\n",
       "      <td>Restaurant</td>\n",
       "      <td>fast_food</td>\n",
       "      <td>Taco Bell</td>\n",
       "      <td>294.87</td>\n",
       "      <td>GBP</td>\n",
       "      <td>UK</td>\n",
       "      <td>...</td>\n",
       "      <td>197.153.60.199</td>\n",
       "      <td>False</td>\n",
       "      <td>False</td>\n",
       "      <td>False</td>\n",
       "      <td>False</td>\n",
       "      <td>1197</td>\n",
       "      <td>3.349856e+07</td>\n",
       "      <td>105</td>\n",
       "      <td>12</td>\n",
       "      <td>1.925481e+06</td>\n",
       "    </tr>\n",
       "    <tr>\n",
       "      <th>1</th>\n",
       "      <td>TX_3599c101</td>\n",
       "      <td>CUST_70474</td>\n",
       "      <td>376800864692727</td>\n",
       "      <td>2024-09-30 00:00:01.764464</td>\n",
       "      <td>Entertainment</td>\n",
       "      <td>gaming</td>\n",
       "      <td>Steam</td>\n",
       "      <td>3368.97</td>\n",
       "      <td>BRL</td>\n",
       "      <td>Brazil</td>\n",
       "      <td>...</td>\n",
       "      <td>208.123.221.203</td>\n",
       "      <td>True</td>\n",
       "      <td>True</td>\n",
       "      <td>False</td>\n",
       "      <td>True</td>\n",
       "      <td>509</td>\n",
       "      <td>2.011476e+07</td>\n",
       "      <td>100</td>\n",
       "      <td>12</td>\n",
       "      <td>5.149117e+06</td>\n",
       "    </tr>\n",
       "    <tr>\n",
       "      <th>2</th>\n",
       "      <td>TX_a9461c6d</td>\n",
       "      <td>CUST_10715</td>\n",
       "      <td>5251909460951913</td>\n",
       "      <td>2024-09-30 00:00:02.273762</td>\n",
       "      <td>Grocery</td>\n",
       "      <td>physical</td>\n",
       "      <td>Whole Foods</td>\n",
       "      <td>102582.38</td>\n",
       "      <td>JPY</td>\n",
       "      <td>Japan</td>\n",
       "      <td>...</td>\n",
       "      <td>10.194.159.204</td>\n",
       "      <td>False</td>\n",
       "      <td>False</td>\n",
       "      <td>False</td>\n",
       "      <td>False</td>\n",
       "      <td>332</td>\n",
       "      <td>3.916385e+07</td>\n",
       "      <td>97</td>\n",
       "      <td>12</td>\n",
       "      <td>1.852242e+06</td>\n",
       "    </tr>\n",
       "    <tr>\n",
       "      <th>3</th>\n",
       "      <td>TX_7be21fc4</td>\n",
       "      <td>CUST_16193</td>\n",
       "      <td>376079286931183</td>\n",
       "      <td>2024-09-30 00:00:02.297466</td>\n",
       "      <td>Gas</td>\n",
       "      <td>major</td>\n",
       "      <td>Exxon</td>\n",
       "      <td>630.60</td>\n",
       "      <td>AUD</td>\n",
       "      <td>Australia</td>\n",
       "      <td>...</td>\n",
       "      <td>17.230.177.225</td>\n",
       "      <td>False</td>\n",
       "      <td>False</td>\n",
       "      <td>False</td>\n",
       "      <td>False</td>\n",
       "      <td>764</td>\n",
       "      <td>2.201260e+07</td>\n",
       "      <td>105</td>\n",
       "      <td>12</td>\n",
       "      <td>2.055798e+06</td>\n",
       "    </tr>\n",
       "    <tr>\n",
       "      <th>4</th>\n",
       "      <td>TX_150f490b</td>\n",
       "      <td>CUST_87572</td>\n",
       "      <td>6172948052178810</td>\n",
       "      <td>2024-09-30 00:00:02.544063</td>\n",
       "      <td>Healthcare</td>\n",
       "      <td>medical</td>\n",
       "      <td>Medical Center</td>\n",
       "      <td>724949.27</td>\n",
       "      <td>NGN</td>\n",
       "      <td>Nigeria</td>\n",
       "      <td>...</td>\n",
       "      <td>136.241.219.151</td>\n",
       "      <td>True</td>\n",
       "      <td>False</td>\n",
       "      <td>False</td>\n",
       "      <td>True</td>\n",
       "      <td>218</td>\n",
       "      <td>4.827636e+06</td>\n",
       "      <td>88</td>\n",
       "      <td>12</td>\n",
       "      <td>1.157231e+06</td>\n",
       "    </tr>\n",
       "  </tbody>\n",
       "</table>\n",
       "<p>5 rows × 27 columns</p>\n",
       "</div>"
      ],
      "text/plain": [
       "  transaction_id customer_id       card_number                  timestamp  \\\n",
       "0    TX_a0ad2a2a  CUST_72886  6646734767813109 2024-09-30 00:00:01.034820   \n",
       "1    TX_3599c101  CUST_70474   376800864692727 2024-09-30 00:00:01.764464   \n",
       "2    TX_a9461c6d  CUST_10715  5251909460951913 2024-09-30 00:00:02.273762   \n",
       "3    TX_7be21fc4  CUST_16193   376079286931183 2024-09-30 00:00:02.297466   \n",
       "4    TX_150f490b  CUST_87572  6172948052178810 2024-09-30 00:00:02.544063   \n",
       "\n",
       "  vendor_category vendor_type          vendor     amount currency    country  \\\n",
       "0      Restaurant   fast_food       Taco Bell     294.87      GBP         UK   \n",
       "1   Entertainment      gaming           Steam    3368.97      BRL     Brazil   \n",
       "2         Grocery    physical     Whole Foods  102582.38      JPY      Japan   \n",
       "3             Gas       major           Exxon     630.60      AUD  Australia   \n",
       "4      Healthcare     medical  Medical Center  724949.27      NGN    Nigeria   \n",
       "\n",
       "   ...       ip_address is_outside_home_country is_high_risk_vendor  \\\n",
       "0  ...   197.153.60.199                   False               False   \n",
       "1  ...  208.123.221.203                    True                True   \n",
       "2  ...   10.194.159.204                   False               False   \n",
       "3  ...   17.230.177.225                   False               False   \n",
       "4  ...  136.241.219.151                    True               False   \n",
       "\n",
       "   is_weekend is_fraud last_hour_activity.num_transactions  \\\n",
       "0       False    False                                1197   \n",
       "1       False     True                                 509   \n",
       "2       False    False                                 332   \n",
       "3       False    False                                 764   \n",
       "4       False     True                                 218   \n",
       "\n",
       "  last_hour_activity.total_amount last_hour_activity.unique_merchants  \\\n",
       "0                    3.349856e+07                                 105   \n",
       "1                    2.011476e+07                                 100   \n",
       "2                    3.916385e+07                                  97   \n",
       "3                    2.201260e+07                                 105   \n",
       "4                    4.827636e+06                                  88   \n",
       "\n",
       "   last_hour_activity.unique_countries  last_hour_activity.max_single_amount  \n",
       "0                                   12                          1.925481e+06  \n",
       "1                                   12                          5.149117e+06  \n",
       "2                                   12                          1.852242e+06  \n",
       "3                                   12                          2.055798e+06  \n",
       "4                                   12                          1.157231e+06  \n",
       "\n",
       "[5 rows x 27 columns]"
      ]
     },
     "execution_count": 2,
     "metadata": {},
     "output_type": "execute_result"
    }
   ],
   "source": [
    "file_path = '/Users/kudrasov_a_d/Downloads/transaction_fraud_data.parquet'\n",
    "\n",
    "df = pd.read_parquet(file_path)\n",
    "\n",
    "df.head()"
   ]
  },
  {
   "cell_type": "code",
   "execution_count": 3,
   "id": "be415470",
   "metadata": {},
   "outputs": [
    {
     "data": {
      "text/html": [
       "<div>\n",
       "<style scoped>\n",
       "    .dataframe tbody tr th:only-of-type {\n",
       "        vertical-align: middle;\n",
       "    }\n",
       "\n",
       "    .dataframe tbody tr th {\n",
       "        vertical-align: top;\n",
       "    }\n",
       "\n",
       "    .dataframe thead th {\n",
       "        text-align: right;\n",
       "    }\n",
       "</style>\n",
       "<table border=\"1\" class=\"dataframe\">\n",
       "  <thead>\n",
       "    <tr style=\"text-align: right;\">\n",
       "      <th></th>\n",
       "      <th>date</th>\n",
       "      <th>AUD</th>\n",
       "      <th>BRL</th>\n",
       "      <th>CAD</th>\n",
       "      <th>EUR</th>\n",
       "      <th>GBP</th>\n",
       "      <th>JPY</th>\n",
       "      <th>MXN</th>\n",
       "      <th>NGN</th>\n",
       "      <th>RUB</th>\n",
       "      <th>SGD</th>\n",
       "      <th>USD</th>\n",
       "    </tr>\n",
       "  </thead>\n",
       "  <tbody>\n",
       "    <tr>\n",
       "      <th>0</th>\n",
       "      <td>2024-09-30</td>\n",
       "      <td>1.443654</td>\n",
       "      <td>5.434649</td>\n",
       "      <td>1.351196</td>\n",
       "      <td>0.895591</td>\n",
       "      <td>0.747153</td>\n",
       "      <td>142.573268</td>\n",
       "      <td>19.694724</td>\n",
       "      <td>1668.736400</td>\n",
       "      <td>94.133735</td>\n",
       "      <td>1.280156</td>\n",
       "      <td>1</td>\n",
       "    </tr>\n",
       "    <tr>\n",
       "      <th>1</th>\n",
       "      <td>2024-10-01</td>\n",
       "      <td>1.442917</td>\n",
       "      <td>5.444170</td>\n",
       "      <td>1.352168</td>\n",
       "      <td>0.897557</td>\n",
       "      <td>0.746956</td>\n",
       "      <td>143.831429</td>\n",
       "      <td>19.667561</td>\n",
       "      <td>1670.694524</td>\n",
       "      <td>92.898519</td>\n",
       "      <td>1.284352</td>\n",
       "      <td>1</td>\n",
       "    </tr>\n",
       "    <tr>\n",
       "      <th>2</th>\n",
       "      <td>2024-10-02</td>\n",
       "      <td>1.449505</td>\n",
       "      <td>5.425444</td>\n",
       "      <td>1.348063</td>\n",
       "      <td>0.903056</td>\n",
       "      <td>0.752241</td>\n",
       "      <td>143.806861</td>\n",
       "      <td>19.606748</td>\n",
       "      <td>1669.653006</td>\n",
       "      <td>94.583198</td>\n",
       "      <td>1.286983</td>\n",
       "      <td>1</td>\n",
       "    </tr>\n",
       "    <tr>\n",
       "      <th>3</th>\n",
       "      <td>2024-10-03</td>\n",
       "      <td>1.456279</td>\n",
       "      <td>5.442044</td>\n",
       "      <td>1.351451</td>\n",
       "      <td>0.906018</td>\n",
       "      <td>0.754584</td>\n",
       "      <td>146.916773</td>\n",
       "      <td>19.457701</td>\n",
       "      <td>1670.097873</td>\n",
       "      <td>95.655442</td>\n",
       "      <td>1.294391</td>\n",
       "      <td>1</td>\n",
       "    </tr>\n",
       "    <tr>\n",
       "      <th>4</th>\n",
       "      <td>2024-10-04</td>\n",
       "      <td>1.460930</td>\n",
       "      <td>5.477788</td>\n",
       "      <td>1.355260</td>\n",
       "      <td>0.906452</td>\n",
       "      <td>0.761891</td>\n",
       "      <td>146.592323</td>\n",
       "      <td>19.363467</td>\n",
       "      <td>1649.763738</td>\n",
       "      <td>94.755337</td>\n",
       "      <td>1.296800</td>\n",
       "      <td>1</td>\n",
       "    </tr>\n",
       "  </tbody>\n",
       "</table>\n",
       "</div>"
      ],
      "text/plain": [
       "        date       AUD       BRL       CAD       EUR       GBP         JPY  \\\n",
       "0 2024-09-30  1.443654  5.434649  1.351196  0.895591  0.747153  142.573268   \n",
       "1 2024-10-01  1.442917  5.444170  1.352168  0.897557  0.746956  143.831429   \n",
       "2 2024-10-02  1.449505  5.425444  1.348063  0.903056  0.752241  143.806861   \n",
       "3 2024-10-03  1.456279  5.442044  1.351451  0.906018  0.754584  146.916773   \n",
       "4 2024-10-04  1.460930  5.477788  1.355260  0.906452  0.761891  146.592323   \n",
       "\n",
       "         MXN          NGN        RUB       SGD  USD  \n",
       "0  19.694724  1668.736400  94.133735  1.280156    1  \n",
       "1  19.667561  1670.694524  92.898519  1.284352    1  \n",
       "2  19.606748  1669.653006  94.583198  1.286983    1  \n",
       "3  19.457701  1670.097873  95.655442  1.294391    1  \n",
       "4  19.363467  1649.763738  94.755337  1.296800    1  "
      ]
     },
     "execution_count": 3,
     "metadata": {},
     "output_type": "execute_result"
    }
   ],
   "source": [
    "df2 = pd.read_parquet(\"/Users/kudrasov_a_d/Downloads/historical_currency_exchange.parquet\")\n",
    "\n",
    "df2.head()"
   ]
  },
  {
   "cell_type": "code",
   "execution_count": 4,
   "id": "2a467656",
   "metadata": {},
   "outputs": [
    {
     "name": "stdout",
     "output_type": "stream",
     "text": [
      "\n",
      "Распределение мошенничества:\n",
      "Доля мошеннических транзакций: 0.1997 (19.97%)\n"
     ]
    }
   ],
   "source": [
    "print(\"\\nРаспределение мошенничества:\")\n",
    "fraud_rate = df['is_fraud'].mean()\n",
    "print(f\"Доля мошеннических транзакций: {fraud_rate:.4f} ({fraud_rate*100:.2f}%)\")"
   ]
  },
  {
   "cell_type": "code",
   "execution_count": 5,
   "id": "265e8776",
   "metadata": {},
   "outputs": [
    {
     "name": "stdout",
     "output_type": "stream",
     "text": [
      "\n",
      "Топ категорий по доле мошенничества:\n",
      "                  count      mean\n",
      "vendor_category                  \n",
      "Travel           935790  0.200341\n",
      "Grocery          934029  0.200194\n",
      "Gas              935401  0.199731\n",
      "Restaurant       936178  0.199696\n",
      "Entertainment    936173  0.199632\n",
      "Education        933542  0.199459\n",
      "Retail           935883  0.199398\n",
      "Healthcare       936770  0.199376\n"
     ]
    }
   ],
   "source": [
    "vendor_fraud = df.groupby('vendor_category')['is_fraud'].agg(['count', 'mean']).sort_values('mean', ascending=False)\n",
    "print(\"\\nТоп категорий по доле мошенничества:\")\n",
    "print(vendor_fraud.head(10))"
   ]
  },
  {
   "cell_type": "code",
   "execution_count": 6,
   "id": "3a1b2c3e",
   "metadata": {},
   "outputs": [],
   "source": [
    "df['hour'] = pd.to_datetime(df['timestamp']).dt.hour\n",
    "df['day_of_week'] = pd.to_datetime(df['timestamp']).dt.dayofweek\n",
    "df['is_weekend'] = df['day_of_week'].isin([5, 6])"
   ]
  },
  {
   "cell_type": "code",
   "execution_count": 7,
   "id": "59de022a",
   "metadata": {},
   "outputs": [
    {
     "name": "stdout",
     "output_type": "stream",
     "text": [
      "\n",
      "Анализ мошенничества по времени:\n",
      "is_weekend     False     True \n",
      "hour                          \n",
      "0           0.266110  0.267854\n",
      "1           0.593077  0.591098\n",
      "2           0.592261  0.591050\n",
      "3           0.591502  0.591255\n",
      "4           0.591616  0.590207\n",
      "5           0.200670  0.200362\n",
      "6           0.211691  0.210616\n",
      "7           0.137076  0.137513\n",
      "8           0.102600  0.102010\n",
      "9           0.117491  0.118727\n",
      "10          0.137239  0.139401\n",
      "11          0.118608  0.119134\n",
      "12          0.102792  0.103662\n",
      "13          0.119255  0.116886\n",
      "14          0.138513  0.139678\n",
      "15          0.138154  0.140504\n",
      "16          0.117327  0.118024\n",
      "17          0.102536  0.101871\n",
      "18          0.090708  0.090721\n",
      "19          0.103096  0.103578\n",
      "20          0.136819  0.137185\n",
      "21          0.209759  0.206155\n",
      "22          0.124281  0.124866\n",
      "23          0.147366  0.146529\n"
     ]
    }
   ],
   "source": [
    "time_fraud = df.groupby(['hour', 'is_weekend'])['is_fraud'].mean().unstack()\n",
    "print(\"\\nАнализ мошенничества по времени:\")\n",
    "print(time_fraud)\n"
   ]
  },
  {
   "cell_type": "code",
   "execution_count": 10,
   "id": "788abb17",
   "metadata": {},
   "outputs": [
    {
     "name": "stdout",
     "output_type": "stream",
     "text": [
      "\n",
      "Анализ по географии:\n",
      "                           count      mean\n",
      "is_outside_home_country                   \n",
      "False                    5073605  0.024902\n",
      "True                     2410161  0.567753\n"
     ]
    }
   ],
   "source": [
    "geo_fraud = df.groupby(['is_outside_home_country'])['is_fraud'].agg(['count', 'mean'])\n",
    "print(\"\\nАнализ по географии:\")\n",
    "print(geo_fraud)\n"
   ]
  },
  {
   "cell_type": "code",
   "execution_count": 11,
   "id": "035d2e80",
   "metadata": {},
   "outputs": [
    {
     "name": "stdout",
     "output_type": "stream",
     "text": [
      "\n",
      "Топ устройств по доле мошенничества (первые 10):\n",
      "                   count      mean\n",
      "device                            \n",
      "Chip Reader       217324  1.000000\n",
      "Magnetic Stripe   217204  1.000000\n",
      "NFC Payment       216519  1.000000\n",
      "Firefox          1120952  0.126831\n",
      "Safari           1120245  0.126204\n",
      "Android App      1126117  0.125070\n",
      "Chrome           1132384  0.123710\n",
      "iOS App          1143461  0.122703\n",
      "Edge             1189560  0.116753\n"
     ]
    }
   ],
   "source": [
    "device_fraud = df.groupby('device')['is_fraud'].agg(['count', 'mean']).sort_values('mean', ascending=False)\n",
    "print(\"\\nТоп устройств по доле мошенничества (первые 10):\")\n",
    "print(device_fraud.head(10))"
   ]
  },
  {
   "cell_type": "code",
   "execution_count": 12,
   "id": "025ae5e1",
   "metadata": {},
   "outputs": [
    {
     "name": "stdout",
     "output_type": "stream",
     "text": [
      "\n",
      "Статистика по суммам:\n",
      "              count           mean            std    min      25%      50%  \\\n",
      "is_fraud                                                                     \n",
      "False     5989047.0   30242.538284   87656.818774  17.95  368.220   903.51   \n",
      "True      1494719.0  118773.589871  347542.933086   0.01  295.585  5626.06   \n",
      "\n",
      "               75%         max  \n",
      "is_fraud                        \n",
      "False     14535.93  1240629.47  \n",
      "True      63556.20  6253152.62  \n"
     ]
    }
   ],
   "source": [
    "print(\"\\nСтатистика по суммам:\")\n",
    "print(df.groupby('is_fraud')['amount'].describe())"
   ]
  },
  {
   "cell_type": "code",
   "execution_count": 13,
   "id": "7cd71e87",
   "metadata": {},
   "outputs": [],
   "source": [
    "import matplotlib.pyplot as plt\n",
    "import seaborn as sns"
   ]
  },
  {
   "cell_type": "code",
   "execution_count": 19,
   "id": "4d495509",
   "metadata": {},
   "outputs": [
    {
     "data": {
      "image/png": "[encoded data removed]",
      "text/plain": [
       "<Figure size 1000x600 with 1 Axes>"
      ]
     },
     "metadata": {},
     "output_type": "display_data"
    }
   ],
   "source": [
    "plt.figure(figsize=(10, 6))\n",
    "fraud_amounts = df[df['is_fraud'] == True]['amount']\n",
    "normal_amounts = df[df['is_fraud'] == False]['amount'].sample(n=10000)  # Сэмпл для скорости\n",
    "\n",
    "plt.hist(normal_amounts, bins=50, alpha=0.7, label='Нормальные', density=True)\n",
    "plt.hist(fraud_amounts, bins=50, alpha=0.7, label='Мошеннические', density=True)\n",
    "plt.xlabel('Сумма транзакции')\n",
    "plt.ylabel('Плотность')\n",
    "plt.legend()\n",
    "plt.xlim(0, 2 * 10**6)\n",
    "plt.title('Распределение сумм транзакций')\n",
    "plt.show()"
   ]
  },
  {
   "cell_type": "code",
   "execution_count": 21,
   "id": "367a4344",
   "metadata": {},
   "outputs": [
    {
     "data": {
      "image/png": "[encoded data removed]",
      "text/plain": [
       "<Figure size 640x480 with 1 Axes>"
      ]
     },
     "metadata": {},
     "output_type": "display_data"
    }
   ],
   "source": [
    "plt.subplot(1, 2, 2)\n",
    "top_vendors = vendor_fraud.head(10)\n",
    "plt.barh(range(len(top_vendors)), top_vendors['mean'])\n",
    "plt.yticks(range(len(top_vendors)), top_vendors.index)\n",
    "plt.title('Топ 10 категорий по доле мошенничества')\n",
    "plt.xlabel('Доля мошенничества')\n",
    "plt.tight_layout()\n",
    "plt.show()"
   ]
  },
  {
   "cell_type": "code",
   "execution_count": null,
   "id": "5cdc1f38",
   "metadata": {},
   "outputs": [],
   "source": []
  }
 ],
 "metadata": {
  "kernelspec": {
   "display_name": "task-2",
   "language": "python",
   "name": "python3"
  },
  "language_info": {
   "codemirror_mode": {
    "name": "ipython",
    "version": 3
   },
   "file_extension": ".py",
   "mimetype": "text/x-python",
   "name": "python",
   "nbconvert_exporter": "python",
   "pygments_lexer": "ipython3",
   "version": "3.12.11"
  }
 },
 "nbformat": 4,
 "nbformat_minor": 5
}
